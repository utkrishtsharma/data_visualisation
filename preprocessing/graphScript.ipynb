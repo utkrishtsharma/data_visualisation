{
 "cells": [
  {
   "cell_type": "code",
   "execution_count": 1,
   "metadata": {
    "collapsed": true
   },
   "outputs": [],
   "source": [
    "import pandas as pd\n",
    "data = pd.read_csv('C:/Users/princ/Anaconda3/Graph Alda/uspollution/pollution_us_2000_2016.csv',encoding='utf8', engine='python')\n",
    "data = data.drop(data.columns[0], axis=1)\\"
   ]
  },
  {
   "cell_type": "code",
   "execution_count": 2,
   "metadata": {
    "collapsed": true
   },
   "outputs": [],
   "source": [
    "import plotly.plotly as py"
   ]
  },
  {
   "cell_type": "code",
   "execution_count": 3,
   "metadata": {
    "collapsed": true
   },
   "outputs": [],
   "source": [
    "groupedDataNO2 = data.groupby('State', as_index=False).agg({\"NO2 Mean\": \"mean\"})\n",
    "groupedDataSO2 = data.groupby('State', as_index=False).agg({\"SO2 Mean\": \"mean\"})\n",
    "groupedDataCO = data.groupby('State', as_index=False).agg({\"CO Mean\": \"mean\"})\n",
    "groupedDataNO2['text'] = groupedDataNO2['State'] + ' NO2 mean '+ groupedDataNO2['NO2 Mean'].astype(str)\n",
    "groupedDataSO2['text'] = groupedDataSO2['State'] + ' SO2 mean '+ groupedDataSO2['SO2 Mean'].astype(str)\n",
    "groupedDataCO['text'] = groupedDataCO['State'] + ' CO mean '+ groupedDataCO['CO Mean'].astype(str)"
   ]
  },
  {
   "cell_type": "code",
   "execution_count": 4,
   "metadata": {
    "collapsed": true
   },
   "outputs": [],
   "source": [
    "code = ['AL','AK','AZ','AR','CA','CO','CT','MS','DE','DC','FL','GA','HI','ID','IL','IN','IA','KS','KY','LA','ME','MD','MA','MI','MN','MO','NV','NH','NJ','NM','NY','NC','ND','OH','OK','OR','PA','RI','SC','SD','TN','TX','UT','VA','WA','WI','WY']"
   ]
  },
  {
   "cell_type": "code",
   "execution_count": 5,
   "metadata": {
    "collapsed": true
   },
   "outputs": [],
   "source": [
    "groupedDataNO2['code'] = code\n",
    "groupedDataSO2['code'] = code\n",
    "groupedDataCO['code'] = code"
   ]
  },
  {
   "cell_type": "code",
   "execution_count": 6,
   "metadata": {},
   "outputs": [
    {
     "data": {
      "text/html": [
       "<iframe id=\"igraph\" scrolling=\"no\" style=\"border:none;\" seamless=\"seamless\" src=\"https://plot.ly/~priyance/4.embed\" height=\"525px\" width=\"100%\"></iframe>"
      ],
      "text/plain": [
       "<plotly.tools.PlotlyDisplay object>"
      ]
     },
     "execution_count": 6,
     "metadata": {},
     "output_type": "execute_result"
    }
   ],
   "source": [
    "scl = [[0.0, 'rgb(142,240,247)'],[0.2, 'rgb(140,218,235)'],[0.4, 'rgb(138,189,220)'],[0.6, 'rgb(130,154,200)'],[0.8, 'rgb(117,107,177)'],[1.0, 'rgb(100,39,143)']]\n",
    "dataNO2 = [ dict(\n",
    "        type='choropleth',\n",
    "        colorscale = scl,\n",
    "        autocolorscale = False,\n",
    "        locations = groupedDataNO2['code'],\n",
    "        z = groupedDataNO2['NO2 Mean'].astype(float),\n",
    "        locationmode = 'USA-states',\n",
    "        text = groupedDataNO2['text'],\n",
    "        marker = dict(\n",
    "            line = dict (\n",
    "                color = 'rgb(255,255,255)',\n",
    "                width = 2\n",
    "            ) ),\n",
    "        colorbar = dict(\n",
    "            title = \"Millions USD\")\n",
    "        ) ]\n",
    "\n",
    "layoutNO2 = dict(\n",
    "        title = 'NO2 mean for each and every state',\n",
    "        geo = dict(\n",
    "            scope='usa',\n",
    "            projection=dict( type='albers usa' ),\n",
    "            showlakes = True,\n",
    "            lakecolor = 'rgb(255, 255, 255)'),\n",
    "             )\n",
    "    \n",
    "fig = dict( data=dataNO2, layout=layoutNO2 )\n",
    "py.iplot( fig, filename='d3-cloropleth-map' )"
   ]
  },
  {
   "cell_type": "code",
   "execution_count": 7,
   "metadata": {},
   "outputs": [
    {
     "data": {
      "text/html": [
       "<iframe id=\"igraph\" scrolling=\"no\" style=\"border:none;\" seamless=\"seamless\" src=\"https://plot.ly/~priyance/4.embed\" height=\"525px\" width=\"100%\"></iframe>"
      ],
      "text/plain": [
       "<plotly.tools.PlotlyDisplay object>"
      ]
     },
     "execution_count": 7,
     "metadata": {},
     "output_type": "execute_result"
    }
   ],
   "source": [
    "scl = [[0.0, 'rgb(242,240,247)'],[0.2, 'rgb(218,218,235)'],[0.4, 'rgb(188,189,220)'],[0.6, 'rgb(158,154,200)'],[0.8, 'rgb(117,107,177)'],[1.0, 'rgb(84,39,143)']]\n",
    "dataSO2 = [ dict(\n",
    "        type='choropleth',\n",
    "        colorscale = scl,\n",
    "        autocolorscale = False,\n",
    "        locations = groupedDataSO2['code'],\n",
    "        z = groupedDataSO2['SO2 Mean'].astype(float),\n",
    "        locationmode = 'USA-states',\n",
    "        text = groupedDataSO2['text'],\n",
    "        marker = dict(\n",
    "            line = dict (\n",
    "                color = 'rgb(255,255,255)',\n",
    "                width = 2\n",
    "            ) ),\n",
    "        colorbar = dict(\n",
    "            title = \"Millions USD\")\n",
    "        ) ]\n",
    "\n",
    "layoutSO2 = dict(\n",
    "        title = 'SO2 mean for each and every state',\n",
    "        geo = dict(\n",
    "            scope='usa',\n",
    "            projection=dict( type='albers usa' ),\n",
    "            showlakes = True,\n",
    "            lakecolor = 'rgb(255, 255, 255)'),\n",
    "             )\n",
    "    \n",
    "fig = dict( data=dataSO2, layout=layoutSO2 )\n",
    "py.iplot( fig, filename='d3-cloropleth-map' )"
   ]
  },
  {
   "cell_type": "code",
   "execution_count": 10,
   "metadata": {
    "collapsed": true
   },
   "outputs": [],
   "source": [
    "date = pd.to_datetime(data['Date Local'])\n",
    "year = date.dt.year\n",
    "dfYearNO2Mean = pd.DataFrame()\n",
    "dfYearSO2Mean = pd.DataFrame()\n",
    "dfYearCOMean = pd.DataFrame()\n",
    "dfYearNO2Mean['year'] = year\n",
    "dfYearNO2Mean['NO2 mean'] = data['NO2 Mean']\n",
    "dfYearSO2Mean['year'] = year\n",
    "dfYearSO2Mean['SO2 mean'] = data['SO2 Mean']\n",
    "dfYearCOMean['year'] = year\n",
    "dfYearCOMean['CO mean'] = data['CO Mean']\n",
    "groupedYearNO2 = dfYearNO2Mean.groupby('year', as_index=False).agg({\"NO2 mean\": \"mean\"})\n",
    "groupedYearSO2 = dfYearSO2Mean.groupby('year', as_index=False).agg({\"SO2 mean\": \"mean\"})\n",
    "groupedYearCO = dfYearCOMean.groupby('year', as_index=False).agg({\"CO mean\": \"mean\"})"
   ]
  },
  {
   "cell_type": "code",
   "execution_count": 11,
   "metadata": {},
   "outputs": [
    {
     "data": {
      "text/html": [
       "<iframe id=\"igraph\" scrolling=\"no\" style=\"border:none;\" seamless=\"seamless\" src=\"https://plot.ly/~priyance/4.embed\" height=\"525px\" width=\"100%\"></iframe>"
      ],
      "text/plain": [
       "<plotly.tools.PlotlyDisplay object>"
      ]
     },
     "execution_count": 11,
     "metadata": {},
     "output_type": "execute_result"
    }
   ],
   "source": [
    "scl = [[0.0, 'rgb(242,240,47)'],[0.2, 'rgb(218,218,35)'],[0.4, 'rgb(188,189,20)'],[0.6, 'rgb(158,154,18)'],[0.8, 'rgb(117,107,15)'],[1.0, 'rgb(84,39,10)']]\n",
    "dataCO = [ dict(\n",
    "        type='choropleth',\n",
    "        colorscale = scl,\n",
    "        autocolorscale = False,\n",
    "        locations = groupedDataCO['code'],\n",
    "        z = groupedDataCO['CO Mean'].astype(float),\n",
    "        locationmode = 'USA-states',\n",
    "        text = groupedDataCO['text'],\n",
    "        marker = dict(\n",
    "            line = dict (\n",
    "                color = 'rgb(255,255,255)',\n",
    "                width = 2\n",
    "            ) ),\n",
    "        colorbar = dict(\n",
    "            title = \"Millions USD\")\n",
    "        ) ]\n",
    "\n",
    "layoutCO = dict(\n",
    "        title = 'CO mean for each and every state',\n",
    "        geo = dict(\n",
    "            scope='usa',\n",
    "            projection=dict( type='albers usa' ),\n",
    "            showlakes = True,\n",
    "            lakecolor = 'rgb(255, 255, 255)'),\n",
    "             )\n",
    "    \n",
    "fig = dict( data=dataCO, layout=layoutCO )\n",
    "py.iplot( fig, filename='d3-cloropleth-map' )"
   ]
  },
  {
   "cell_type": "code",
   "execution_count": 12,
   "metadata": {},
   "outputs": [
    {
     "data": {
      "text/html": [
       "<iframe id=\"igraph\" scrolling=\"no\" style=\"border:none;\" seamless=\"seamless\" src=\"https://plot.ly/~priyance/6.embed\" height=\"525px\" width=\"100%\"></iframe>"
      ],
      "text/plain": [
       "<plotly.tools.PlotlyDisplay object>"
      ]
     },
     "execution_count": 12,
     "metadata": {},
     "output_type": "execute_result"
    }
   ],
   "source": [
    "import plotly.graph_objs as go\n",
    "scatterDataNO2 = go.Scatter(x=groupedYearNO2['year'],y=groupedYearNO2['NO2 mean'])\n",
    "scatterDataNO2=go.Data([scatterDataNO2])\n",
    "layoutDataNO2=go.Layout(title=\"Plot of mean NO2 trace vs year\", xaxis={'title':'year'}, yaxis={'title':'Mean of NO2'})\n",
    "figure=go.Figure(data=scatterDataNO2,layout=layoutDataNO2)\n",
    "py.iplot(figure, filename='time-series')"
   ]
  },
  {
   "cell_type": "code",
   "execution_count": 13,
   "metadata": {},
   "outputs": [
    {
     "data": {
      "text/html": [
       "<iframe id=\"igraph\" scrolling=\"no\" style=\"border:none;\" seamless=\"seamless\" src=\"https://plot.ly/~priyance/6.embed\" height=\"525px\" width=\"100%\"></iframe>"
      ],
      "text/plain": [
       "<plotly.tools.PlotlyDisplay object>"
      ]
     },
     "execution_count": 13,
     "metadata": {},
     "output_type": "execute_result"
    }
   ],
   "source": [
    "scatterDataSO2 = go.Scatter(x=groupedYearSO2['year'],y=groupedYearSO2['SO2 mean'])\n",
    "scatterDataSO2=go.Data([scatterDataSO2])\n",
    "layoutDataSO2=go.Layout(title=\"Plot of mean SO2 trace vs year\", xaxis={'title':'year'}, yaxis={'title':'Mean of SO2'})\n",
    "figure2=go.Figure(data=scatterDataSO2,layout=layoutDataSO2)\n",
    "py.iplot(figure2, filename='time-series')"
   ]
  },
  {
   "cell_type": "code",
   "execution_count": 14,
   "metadata": {},
   "outputs": [
    {
     "data": {
      "text/html": [
       "<iframe id=\"igraph\" scrolling=\"no\" style=\"border:none;\" seamless=\"seamless\" src=\"https://plot.ly/~priyance/6.embed\" height=\"525px\" width=\"100%\"></iframe>"
      ],
      "text/plain": [
       "<plotly.tools.PlotlyDisplay object>"
      ]
     },
     "execution_count": 14,
     "metadata": {},
     "output_type": "execute_result"
    }
   ],
   "source": [
    "scatterDataCO = go.Scatter(x=groupedYearCO['year'],y=groupedYearCO['CO mean'])\n",
    "scatterDataCO=go.Data([scatterDataCO])\n",
    "layoutDataCO=go.Layout(title=\"Plot of mean CO trace vs year\", xaxis={'title':'year'}, yaxis={'title':'Mean of CO'})\n",
    "figure3=go.Figure(data=scatterDataCO,layout=layoutDataCO)\n",
    "py.iplot(figure3, filename='time-series')\n",
    "#py.iplot(scatterDataCO, filename='time-series')   "
   ]
  },
  {
   "cell_type": "code",
   "execution_count": null,
   "metadata": {
    "collapsed": true
   },
   "outputs": [],
   "source": []
  }
 ],
 "metadata": {
  "kernelspec": {
   "display_name": "Python 3",
   "language": "python",
   "name": "python3"
  },
  "language_info": {
   "codemirror_mode": {
    "name": "ipython",
    "version": 3
   },
   "file_extension": ".py",
   "mimetype": "text/x-python",
   "name": "python",
   "nbconvert_exporter": "python",
   "pygments_lexer": "ipython3",
   "version": "3.6.2"
  }
 },
 "nbformat": 4,
 "nbformat_minor": 2
}
