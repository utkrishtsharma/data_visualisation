{
 "cells": [
  {
   "cell_type": "code",
   "execution_count": 3,
   "metadata": {},
   "outputs": [],
   "source": [
    "import pandas as pd\n",
    "import numpy as np\n",
    "import matplotlib.pylab as plt\n",
    "import datetime as dt\n",
    "%matplotlib inline\n",
    "from matplotlib.pylab import rcParams\n",
    "rcParams['figure.figsize'] = 15, 6"
   ]
  },
  {
   "cell_type": "code",
   "execution_count": 4,
   "metadata": {},
   "outputs": [],
   "source": [
    "data = pd.read_csv('../data/Arizona19NO2.csv', encoding='utf8', engine='python')\n",
    "data = data.drop(data.columns[0], axis=1)\n",
    "date = pd.to_datetime(data['Date Local'])\n",
    "data['Date Local'] = date\n",
    "yearList = []\n",
    "for i in range(2000,2017):\n",
    "    filename = \"../data/data\"+str(i)\n",
    "    for j in range(1,13):\n",
    "        filename = filename + \"month\" + str(j) +\".csv\"\n",
    "        datatemp = data.loc[(data['Date Local'].dt.year == i) & (data['Date Local'].dt.month == j)]\n",
    "        datatemp.to_csv(filename,',',encoding='utf8')\n",
    "        filename = \"../data/data\"+str(i)"
   ]
  },
  {
   "cell_type": "code",
   "execution_count": 5,
   "metadata": {},
   "outputs": [],
   "source": [
    "finalSeries = []\n",
    "\n",
    "for i in range(2000,2017):\n",
    "    filename = \"../data/data\"+str(i)\n",
    "    for j in range(1,13):\n",
    "        filename = filename + \"month\" + str(j) +\".csv\"\n",
    "        data = pd.read_csv(filename, usecols=['NO2 Mean'])\n",
    "        series = data['NO2 Mean'].tolist()\n",
    "        seriesNP = np.asarray(series)\n",
    "        finalSeries.append(seriesNP)\n",
    "        filename = \"../data/data\"+str(i)"
   ]
  },
  {
   "cell_type": "code",
   "execution_count": 6,
   "metadata": {},
   "outputs": [
    {
     "name": "stderr",
     "output_type": "stream",
     "text": [
      "/Users/utkrisht/opt/anaconda3/lib/python3.9/site-packages/numpy/core/_asarray.py:102: VisibleDeprecationWarning: Creating an ndarray from ragged nested sequences (which is a list-or-tuple of lists-or-tuples-or ndarrays with different lengths or shapes) is deprecated. If you meant to do this, you must specify 'dtype=object' when creating the ndarray.\n",
      "  return array(a, dtype, copy=False, order=order)\n"
     ]
    }
   ],
   "source": [
    "finalSeriesNP = np.asarray(finalSeries)"
   ]
  },
  {
   "cell_type": "code",
   "execution_count": null,
   "metadata": {},
   "outputs": [],
   "source": []
  },
  {
   "cell_type": "code",
   "execution_count": null,
   "metadata": {},
   "outputs": [],
   "source": []
  },
  {
   "cell_type": "code",
   "execution_count": null,
   "metadata": {},
   "outputs": [],
   "source": []
  },
  {
   "cell_type": "code",
   "execution_count": null,
   "metadata": {},
   "outputs": [],
   "source": []
  },
  {
   "cell_type": "code",
   "execution_count": null,
   "metadata": {},
   "outputs": [],
   "source": []
  },
  {
   "cell_type": "code",
   "execution_count": null,
   "metadata": {},
   "outputs": [],
   "source": []
  }
 ],
 "metadata": {
  "kernelspec": {
   "display_name": "Python 3 (ipykernel)",
   "language": "python",
   "name": "python3"
  },
  "language_info": {
   "codemirror_mode": {
    "name": "ipython",
    "version": 3
   },
   "file_extension": ".py",
   "mimetype": "text/x-python",
   "name": "python",
   "nbconvert_exporter": "python",
   "pygments_lexer": "ipython3",
   "version": "3.9.7"
  }
 },
 "nbformat": 4,
 "nbformat_minor": 2
}
