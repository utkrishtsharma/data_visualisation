{
 "cells": [
  {
   "cell_type": "code",
   "execution_count": 1,
   "metadata": {
    "collapsed": true
   },
   "outputs": [],
   "source": [
    "import pandas as pd\n",
    "import numpy as np\n",
    "import matplotlib.pylab as plt\n",
    "import datetime as dt\n",
    "%matplotlib inline\n",
    "from matplotlib.pylab import rcParams\n",
    "rcParams['figure.figsize'] = 15, 6"
   ]
  },
  {
   "cell_type": "code",
   "execution_count": 2,
   "metadata": {
    "collapsed": true
   },
   "outputs": [],
   "source": [
    "finalSeries = []\n",
    "\n",
    "for i in range(2000,2017):\n",
    "    filename = \"../data/data\"+str(i)\n",
    "    for j in range(1,13):\n",
    "        filename = filename + \"month\" + str(j) +\".csv\"\n",
    "        data = pd.read_csv(filename, usecols=['NO2 Mean'])\n",
    "        series = data['NO2 Mean'].tolist()\n",
    "        if(len(series)<31 and len(series)!=0):\n",
    "            while len(series)!=31:\n",
    "                last = series[len(series)-1]\n",
    "                series.append(last)\n",
    "        if(len(series)!=0):\n",
    "            series.append(j)\n",
    "            seriesNP = np.asarray(series)\n",
    "            finalSeries.append(seriesNP)\n",
    "        filename = \"../data/data\"+str(i)\n",
    "\n",
    "finalSeriesNP = np.asarray(finalSeries)"
   ]
  },
  {
   "cell_type": "code",
   "execution_count": 3,
   "metadata": {
    "collapsed": true
   },
   "outputs": [],
   "source": [
    "def DynamicTimeWarping(ts1, ts2, window):\n",
    "    DTW_Dictionary={}\n",
    "    \n",
    "    window = max(window, abs(len(ts1)-len(ts2)))\n",
    "    \n",
    "    for i in range(-1,len(ts1)):\n",
    "        for j in range(-1,len(ts2)):\n",
    "            DTW_Dictionary[(i, j)] = float('inf')\n",
    "    DTW_Dictionary[(-1, -1)] = 0\n",
    "  \n",
    "    for item in range(len(ts1)):\n",
    "        for j in range(max(0, item-window), min(len(ts2), item+window)):\n",
    "            distance= (ts1[item]-ts2[j])**2\n",
    "            DTW_Dictionary[(item, j)] = distance + min(DTW_Dictionary[(item-1, j)],DTW_Dictionary[(item, j-1)], DTW_Dictionary[(item-1, j-1)])\n",
    "        \n",
    "    return np.sqrt(DTW_Dictionary[len(ts1)-1, len(ts2)-1])\n",
    "\n",
    "\n",
    "def LowerBoundKeogh(ts1,ts2,reach):\n",
    "    lowerBoundSum=0\n",
    "    for index, item in enumerate(ts1):\n",
    "        if len(ts2[(index-reach if index-reach>=0 else 0):(index+reach)])==0:\n",
    "            break\n",
    "        lowerBound = min(ts2[(index-reach if index-reach>=0 else 0):(index+reach)])\n",
    "        upperBound = max(ts2[(index-reach if index-reach>=0 else 0):(index+reach)])\n",
    "        \n",
    "        if item>upperBound:\n",
    "            lowerBoundSum = lowerBoundSum+(item-upperBound)**2\n",
    "        elif item<lowerBound:\n",
    "            lowerBoundSum = lowerBoundSum+(item-lowerBound)**2\n",
    "    \n",
    "    return np.sqrt(lowerBoundSum)"
   ]
  },
  {
   "cell_type": "code",
   "execution_count": 7,
   "metadata": {
    "collapsed": true
   },
   "outputs": [],
   "source": [
    "from sklearn.metrics import classification_report\n",
    "\n",
    "def knn(train,test,w):\n",
    "    preds=[]\n",
    "    for ind,i in enumerate(test):\n",
    "        min_dist=float('inf')\n",
    "        closest_seq=[]\n",
    "        #print ind\n",
    "        for j in train:\n",
    "            if LowerBoundKeogh(i[:-1],j[:-1],5)<min_dist:\n",
    "                dist=DynamicTimeWarping(i[:-1],j[:-1],w)\n",
    "                if dist<min_dist:\n",
    "                    min_dist=dist\n",
    "                    closest_seq=j\n",
    "        preds.append(closest_seq[-1])\n",
    "    return classification_report(test[:,-1],preds), preds"
   ]
  },
  {
   "cell_type": "code",
   "execution_count": 8,
   "metadata": {
    "collapsed": true
   },
   "outputs": [],
   "source": [
    "#np.random.shuffle(finalSeriesNP)\n",
    "train, test = finalSeriesNP[:150,:], finalSeriesNP[150:,:]\n"
   ]
  },
  {
   "cell_type": "code",
   "execution_count": 9,
   "metadata": {},
   "outputs": [
    {
     "name": "stderr",
     "output_type": "stream",
     "text": [
      "C:\\Anaconda3\\lib\\site-packages\\sklearn\\metrics\\classification.py:1135: UndefinedMetricWarning: Precision and F-score are ill-defined and being set to 0.0 in labels with no predicted samples.\n",
      "  'precision', 'predicted', average, warn_for)\n"
     ]
    }
   ],
   "source": [
    "report, pred = knn(train,test,10)"
   ]
  },
  {
   "cell_type": "code",
   "execution_count": 10,
   "metadata": {},
   "outputs": [
    {
     "name": "stdout",
     "output_type": "stream",
     "text": [
      "[8.0, 8.0, 6.0, 3.0, 1.0, 11.0, 1.0, 7.0, 9.0, 8.0, 8.0, 6.0, 6.0, 8.0, 8.0, 3.0, 3.0, 2.0, 9.0, 4.0, 7.0, 7.0, 8.0, 6.0, 7.0, 8.0, 8.0, 2.0, 3.0, 9.0, 5.0, 7.0, 7.0, 7.0, 7.0, 7.0, 7.0, 5.0, 10.0, 2.0, 11.0, 4.0, 8.0]\n",
      "[  7.   9.  10.  11.  12.   1.   2.   3.   4.   5.   6.   7.   8.   9.  10.\n",
      "  11.  12.   1.   2.   3.   4.   5.   6.   8.   9.  10.  11.  12.   1.   2.\n",
      "   3.   4.   5.   6.   7.   8.   9.  10.  11.  12.   1.   2.   3.]\n",
      "             precision    recall  f1-score   support\n",
      "\n",
      "        1.0       0.00      0.00      0.00         4\n",
      "        2.0       0.00      0.00      0.00         4\n",
      "        3.0       0.00      0.00      0.00         4\n",
      "        4.0       0.00      0.00      0.00         3\n",
      "        5.0       0.00      0.00      0.00         3\n",
      "        6.0       0.00      0.00      0.00         3\n",
      "        7.0       0.10      0.33      0.15         3\n",
      "        8.0       0.00      0.00      0.00         3\n",
      "        9.0       0.00      0.00      0.00         4\n",
      "       10.0       0.00      0.00      0.00         4\n",
      "       11.0       0.00      0.00      0.00         4\n",
      "       12.0       0.00      0.00      0.00         4\n",
      "\n",
      "avg / total       0.01      0.02      0.01        43\n",
      "\n"
     ]
    }
   ],
   "source": [
    "print(pred)\n",
    "print(test[:,-1])\n",
    "print(report)"
   ]
  },
  {
   "cell_type": "code",
   "execution_count": null,
   "metadata": {
    "collapsed": true
   },
   "outputs": [],
   "source": []
  }
 ],
 "metadata": {
  "kernelspec": {
   "display_name": "Python 3",
   "language": "python",
   "name": "python3"
  },
  "language_info": {
   "codemirror_mode": {
    "name": "ipython",
    "version": 3
   },
   "file_extension": ".py",
   "mimetype": "text/x-python",
   "name": "python",
   "nbconvert_exporter": "python",
   "pygments_lexer": "ipython3",
   "version": "3.6.2"
  }
 },
 "nbformat": 4,
 "nbformat_minor": 2
}
