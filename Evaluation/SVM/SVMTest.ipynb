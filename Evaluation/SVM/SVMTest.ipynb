{
 "cells": [
  {
   "cell_type": "code",
   "execution_count": 14,
   "metadata": {
    "collapsed": true
   },
   "outputs": [],
   "source": [
    "import numpy as np\n",
    "import matplotlib.pyplot as plt\n",
    "np.random.seed(6)\n",
    "import math"
   ]
  },
  {
   "cell_type": "code",
   "execution_count": 15,
   "metadata": {
    "collapsed": false
   },
   "outputs": [
    {
     "name": "stdout",
     "output_type": "stream",
     "text": [
      "[[  1.           7.06271257  -4.43060687]\n",
      " [  1.           6.64502272  -2.53437729]\n",
      " [  1.          -1.13599245  -7.83714475]\n",
      " [  1.           4.0780129   -4.87353096]\n",
      " [  1.          -1.81854779  -9.21307877]\n",
      " [  1.          -2.04526856 -10.16766281]\n",
      " [  1.           4.27858296  -3.64223077]\n",
      " [  1.          -0.29558021  -9.20405811]\n",
      " [  1.           5.22077265  -6.28680586]\n",
      " [  1.          -1.83727003  -8.25157645]\n",
      " [  1.           7.4584847   -5.30050985]\n",
      " [  1.           4.93150507  -3.43064093]\n",
      " [  1.          -1.7694279   -9.32767997]\n",
      " [  1.           5.25191657  -5.48859954]\n",
      " [  1.           6.60704632  -4.45212519]\n",
      " [  1.           7.98344444  -4.78049858]\n",
      " [  1.           6.30257159  -5.27091977]\n",
      " [  1.           5.80498764  -5.10233062]\n",
      " [  1.           5.67842499  -3.38317043]\n",
      " [  1.           7.14022514  -5.95662772]\n",
      " [  1.          -3.18329394  -8.68350703]\n",
      " [  1.          -1.25797779  -8.00743496]\n",
      " [  1.          -3.22549935  -7.52127041]\n",
      " [  1.          -1.81453265  -7.62003933]\n",
      " [  1.          -1.55276528  -8.78372889]\n",
      " [  1.          -3.69066047  -9.35968162]\n",
      " [  1.          -2.69242984  -9.32610812]\n",
      " [  1.           0.4462309   -8.40386914]\n",
      " [  1.          -0.79385165  -7.92127879]\n",
      " [  1.          -1.79218634  -8.63472578]\n",
      " [  1.           6.47244991  -3.65553579]\n",
      " [  1.           4.65863258  -4.27459909]\n",
      " [  1.          -1.29326504  -8.62596289]\n",
      " [  1.          -0.77481154  -8.47686119]\n",
      " [  1.           3.92264701  -4.08134723]\n",
      " [  1.          -3.27058074  -9.44615605]\n",
      " [  1.           6.03952891  -5.99527351]\n",
      " [  1.          -2.86326646  -9.02637223]\n",
      " [  1.           3.95717578  -4.05037441]\n",
      " [  1.           6.41281776  -4.42685804]\n",
      " [  1.          -1.8161833  -10.00059437]\n",
      " [  1.          -1.77146079  -9.39829903]\n",
      " [  1.           2.88970296  -4.26961959]\n",
      " [  1.           5.26270258  -4.11775819]\n",
      " [  1.           6.31357923  -4.33837601]\n",
      " [  1.          -2.28444494  -8.3992357 ]\n",
      " [  1.          -3.03498453  -9.22437605]\n",
      " [  1.           6.55689908  -4.32536633]\n",
      " [  1.           7.17861535  -3.62078804]\n",
      " [  1.          -2.0239666   -8.19640159]]\n"
     ]
    },
    {
     "data": {
      "image/png": "[encoded data removed]",
      "text/plain": [
       "<matplotlib.figure.Figure at 0x1a33dbdfc18>"
      ]
     },
     "metadata": {},
     "output_type": "display_data"
    }
   ],
   "source": [
    "from sklearn.datasets.samples_generator import make_blobs\n",
    "\n",
    "(X,y) =  make_blobs(n_samples=50,n_features=2,centers=2,cluster_std=1,random_state=40)\n",
    "#adding 1 to X - bias\n",
    "X1 = np.c_[np.ones((X.shape[0])),X]\n",
    "print(X1)\n",
    "plt.scatter(X1[:,1],X1[:,2],marker='o',c=y)\n",
    "plt.axis([-5,10,-12,-1])\n",
    "plt.show()"
   ]
  },
  {
   "cell_type": "code",
   "execution_count": 16,
   "metadata": {
    "collapsed": true
   },
   "outputs": [],
   "source": [
    "pos=[]\n",
    "neg=[]\n",
    "for i,v in enumerate(y):\n",
    "    if v==0:\n",
    "        neg.append(X[i])\n",
    "    else:\n",
    "        pos.append(X[i])\n",
    "\n",
    "#creating our data dictionary for features\n",
    "data_dict = {-1:np.array(neg), 1:np.array(pos)}"
   ]
  },
  {
   "cell_type": "code",
   "execution_count": 17,
   "metadata": {
    "collapsed": true
   },
   "outputs": [],
   "source": [
    "#weights\n",
    "w=[]\n",
    "#biases\n",
    "b=[]\n",
    "\n",
    "feature_max=float('-inf')\n",
    "feature_min=float('+inf')\n",
    "        \n",
    "#finding max and min feature values\n",
    "for yi in data_dict:\n",
    "    if np.amax(data_dict[yi])>feature_max:\n",
    "        feature_max=np.amax(data_dict[yi])\n",
    "                \n",
    "    if np.amin(data_dict[yi])<feature_min:\n",
    "        feature_min=np.amin(data_dict[yi])\n",
    "\n",
    "#the learning rate\n",
    "learning_rate = [feature_max * 0.1, feature_max * 0.01, feature_max * 0.001,]"
   ]
  },
  {
   "cell_type": "code",
   "execution_count": 18,
   "metadata": {
    "collapsed": true
   },
   "outputs": [],
   "source": [
    "def SVM_Training(data_dict):\n",
    "    i=1\n",
    "    global w\n",
    "    global b\n",
    "    length_Wvector = {}\n",
    "    transforms = [[1,1],[-1,1],[-1,-1],[1,-1]]\n",
    "    \n",
    "    step_size = 2\n",
    "    multiple = 5\n",
    "    optimum_weight = feature_max*0.5\n",
    "\n",
    "    for l in learning_rate:\n",
    "        \n",
    "        w = np.array([optimum_weight,optimum_weight])     \n",
    "        optimized = False\n",
    "        while not optimized:\n",
    "            #maximize b values, check for every b, b from -max to max\n",
    "            for b in np.arange(-1*(feature_max*step_size), feature_max*step_size, l*multiple):\n",
    "                for transformation in transforms:\n",
    "                    w_t = w*transformation\n",
    "                    \n",
    "                    correctly_classified = True\n",
    "                    \n",
    "                    # every data point is correct\n",
    "                    for yi in data_dict:\n",
    "                        for xi in data_dict[yi]:\n",
    "                            if yi*(np.dot(w_t,xi)+b) < 1:\n",
    "                                correctly_classified = False\n",
    "                                \n",
    "                    if correctly_classified:\n",
    "                        length_Wvector[np.linalg.norm(w_t)] = [w_t,b]\n",
    "            \n",
    "            if w[0] < 0:\n",
    "                optimized = True\n",
    "            else:\n",
    "                w = w - l\n",
    "\n",
    "        norms = sorted([n for n in length_Wvector])\n",
    "        \n",
    "        minimum_wlength = length_Wvector[norms[0]]\n",
    "        w = minimum_wlength[0]\n",
    "        b = minimum_wlength[1]\n",
    "        \n",
    "        optimum_weight = w[0]+l*2"
   ]
  },
  {
   "cell_type": "code",
   "execution_count": 19,
   "metadata": {
    "collapsed": false
   },
   "outputs": [],
   "source": [
    "SVM_Training(data_dict)"
   ]
  },
  {
   "cell_type": "code",
   "execution_count": 20,
   "metadata": {
    "collapsed": true
   },
   "outputs": [],
   "source": [
    "colors = {1:'r',-1:'b'}\n",
    "fig = plt.figure()\n",
    "ax = fig.add_subplot(1,1,1)"
   ]
  },
  {
   "cell_type": "code",
   "execution_count": 21,
   "metadata": {
    "collapsed": true
   },
   "outputs": [],
   "source": [
    "def visualization(data_dict):\n",
    "        \n",
    "        plt.scatter(X1[:,1],X1[:,2],marker='o',c=y)\n",
    "\n",
    "        def hyperplane_value(x,w,b,v):\n",
    "            return (-w[0]*x-b+v) / w[1]\n",
    "\n",
    "        datarange = (feature_min*0.9,feature_min*1.)\n",
    "        hyp_x_min = datarange[0]\n",
    "        hyp_x_max = datarange[1]\n",
    "\n",
    "        # positive support vector hyperplane\n",
    "        psv1 = hyperplane_value(hyp_x_min, w, b, 1)\n",
    "        psv2 = hyperplane_value(hyp_x_max, w, b, 1)\n",
    "        ax.plot([hyp_x_min,hyp_x_max],[psv1,psv2], 'k')\n",
    "\n",
    "        # negative support vector hyperplane\n",
    "        nsv1 = hyperplane_value(hyp_x_min, w, b, -1)\n",
    "        nsv2 = hyperplane_value(hyp_x_max, w, b, -1)\n",
    "        ax.plot([hyp_x_min,hyp_x_max],[nsv1,nsv2], 'k')\n",
    "\n",
    "        # positive support vector hyperplane\n",
    "        db1 = hyperplane_value(hyp_x_min, w, b, 0)\n",
    "        db2 = hyperplane_value(hyp_x_max, w, b, 0)\n",
    "        ax.plot([hyp_x_min,hyp_x_max],[db1,db2], 'y--')\n",
    "        \n",
    "        plt.axis([-5,10,-12,-1])\n",
    "        plt.show()"
   ]
  },
  {
   "cell_type": "code",
   "execution_count": 22,
   "metadata": {
    "collapsed": false
   },
   "outputs": [
    {
     "data": {
      "image/png": "[encoded data removed]",
      "text/plain": [
       "<matplotlib.figure.Figure at 0x1a341a5d978>"
      ]
     },
     "metadata": {},
     "output_type": "display_data"
    }
   ],
   "source": [
    "visualization(data_dict)"
   ]
  },
  {
   "cell_type": "code",
   "execution_count": 23,
   "metadata": {
    "collapsed": false
   },
   "outputs": [
    {
     "name": "stdout",
     "output_type": "stream",
     "text": [
      "1,  1,  -1,  1,  -1,  "
     ]
    }
   ],
   "source": [
    "def predict(features):\n",
    "        dot_result = np.sign(np.dot(np.array(features),w)+b)\n",
    "        return dot_result.astype(int)\n",
    "    \n",
    "for i in X[:5]:\n",
    "    print(predict(i),end=',  ')"
   ]
  },
  {
   "cell_type": "code",
   "execution_count": 24,
   "metadata": {
    "collapsed": false
   },
   "outputs": [
    {
     "data": {
      "text/plain": [
       "array([ 1,  1, -1,  1, -1, -1,  1, -1,  1, -1,  1,  1, -1,  1,  1,  1,  1,\n",
       "        1,  1,  1, -1, -1, -1, -1, -1, -1, -1, -1, -1, -1,  1,  1, -1, -1,\n",
       "        1, -1,  1, -1,  1,  1, -1, -1,  1,  1,  1, -1, -1,  1,  1, -1])"
      ]
     },
     "execution_count": 24,
     "metadata": {},
     "output_type": "execute_result"
    }
   ],
   "source": [
    "l=[]\n",
    "for i in X:\n",
    "    \n",
    "    l.append(predict(i[:6]))\n",
    "l=np.array(l).astype(int)\n",
    "l"
   ]
  },
  {
   "cell_type": "code",
   "execution_count": 25,
   "metadata": {
    "collapsed": false
   },
   "outputs": [
    {
     "data": {
      "text/plain": [
       "array([-1.81854779, -9.21307877])"
      ]
     },
     "execution_count": 25,
     "metadata": {},
     "output_type": "execute_result"
    }
   ],
   "source": [
    "X[4]"
   ]
  },
  {
   "cell_type": "code",
   "execution_count": 26,
   "metadata": {
    "collapsed": false
   },
   "outputs": [
    {
     "data": {
      "text/plain": [
       "array([ 1,  1, -1,  1, -1, -1,  1, -1,  1, -1,  1,  1, -1,  1,  1,  1,  1,\n",
       "        1,  1,  1, -1, -1, -1, -1, -1, -1, -1, -1, -1, -1,  1,  1, -1, -1,\n",
       "        1, -1,  1, -1,  1,  1, -1, -1,  1,  1,  1, -1, -1,  1,  1, -1])"
      ]
     },
     "execution_count": 26,
     "metadata": {},
     "output_type": "execute_result"
    }
   ],
   "source": [
    "for i, j in enumerate(y):\n",
    "    if j==0:\n",
    "        y[i]=-1\n",
    "y"
   ]
  },
  {
   "cell_type": "code",
   "execution_count": 27,
   "metadata": {
    "collapsed": false
   },
   "outputs": [
    {
     "data": {
      "text/plain": [
       "0"
      ]
     },
     "execution_count": 27,
     "metadata": {},
     "output_type": "execute_result"
    }
   ],
   "source": [
    "error = sum((l-y)**2)\n",
    "error"
   ]
  },
  {
   "cell_type": "code",
   "execution_count": 56,
   "metadata": {
    "collapsed": false
   },
   "outputs": [
    {
     "data": {
      "text/plain": [
       "0"
      ]
     },
     "execution_count": 56,
     "metadata": {},
     "output_type": "execute_result"
    }
   ],
   "source": []
  },
  {
   "cell_type": "code",
   "execution_count": null,
   "metadata": {
    "collapsed": true
   },
   "outputs": [],
   "source": []
  }
 ],
 "metadata": {
  "anaconda-cloud": {},
  "kernelspec": {
   "display_name": "Python [default]",
   "language": "python",
   "name": "python3"
  },
  "language_info": {
   "codemirror_mode": {
    "name": "ipython",
    "version": 3
   },
   "file_extension": ".py",
   "mimetype": "text/x-python",
   "name": "python",
   "nbconvert_exporter": "python",
   "pygments_lexer": "ipython3",
   "version": "3.5.4"
  }
 },
 "nbformat": 4,
 "nbformat_minor": 2
}
